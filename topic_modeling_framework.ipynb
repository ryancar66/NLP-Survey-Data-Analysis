{
 "cells": [
  {
   "cell_type": "markdown",
   "metadata": {},
   "source": [
    "## Topic Modeling - Framework"
   ]
  },
  {
   "cell_type": "markdown",
   "metadata": {},
   "source": [
    "This Notebook allows for topic tagging from the words found in the responses. The client had certain themes that fell under different values the company emphasizes. They wanted to associate responses from their employees to these themes. I interviewed the users and found which words or phrases they associated with each theme. This dictionary of words and themes was stored in an excel file to allow the client to easily manipulate and customize the dictionary.I included a screenshot of the excel as an  example:\n"
   ]
  },
  {
   "attachments": {
    "Capture-nlp-2.PNG": {
     "image/png": "[encoded data removed]"
    }
   },
   "cell_type": "markdown",
   "metadata": {},
   "source": [
    "![Capture-nlp-2.PNG](attachment:Capture-nlp-2.PNG)"
   ]
  },
  {
   "cell_type": "markdown",
   "metadata": {},
   "source": [
    "We can see that for the two themes of **Communication** and **Recruiting** that they have associated words with them. The following notebook shows code that will convert from raw data, normalize the text and preparing it for analysis, then tagging each response with the topic. Some resources will contain multiple tags. This will allow the client to see how many responses in both a positive and negative sentiment associated with a theme of theirs. They can then evaluate their responses quantitatively. "
   ]
  },
  {
   "cell_type": "code",
   "execution_count": 1,
   "metadata": {},
   "outputs": [],
   "source": [
    "# importing libraries\n",
    "import pandas as pd\n",
    "import spacy\n",
    "import string\n",
    "import re\n",
    "import numpy as np\n",
    "from collections import defaultdict"
   ]
  },
  {
   "cell_type": "markdown",
   "metadata": {},
   "source": [
    "The following cells are all the functions that will be used throughout the script"
   ]
  },
  {
   "cell_type": "code",
   "execution_count": 7,
   "metadata": {},
   "outputs": [],
   "source": [
    "# standardize and normalize text\n",
    "def normalize(text):\n",
    "    \"\"\" Helper function to normalize text\"\"\"\n",
    "    # convert to lower\n",
    "    text = text.lower()\n",
    "    \n",
    "    # remove punctuation\n",
    "    text = text.translate(str.maketrans('', '', string.punctuation))\n",
    "    \n",
    "    # remove numbers\n",
    "    # To do??\n",
    "    \n",
    "    # remove hyphens\n",
    "    text = ''.join(text.split('-'))\n",
    "    \n",
    "    # Remove multiple white spaces \n",
    "    re.sub(\"\\s\\s+\", \" \", text)\n",
    "    \n",
    "    # load english model to tokenize text and stop words\n",
    "    nlp = spacy.load('en_core_web_sm')\n",
    "    stops = spacy.lang.en.stop_words.STOP_WORDS \n",
    "    \n",
    "    # convert to tokens \n",
    "    text = nlp(text)\n",
    "    \n",
    "    # Lemmatize and Remove standard stop words\n",
    "    text = \" \".join([token.lemma_ for token in text if not token.is_stop])\n",
    "    return text"
   ]
  },
  {
   "cell_type": "code",
   "execution_count": 104,
   "metadata": {},
   "outputs": [],
   "source": [
    "def load_survey_response_text(survey_filepath: str, feedback_type: str):\n",
    "    \"\"\" Helper function to load survey responses (only one type)\"\"\"\n",
    "    \n",
    "    if feedback_type.lower() in ['pos', 'positive', 'good']:\n",
    "        columns = ['ID', 'positive']\n",
    "    elif feedback_type.lower() in ['neg', 'negative', 'bad']:\n",
    "        columns = ['ID', 'negative']\n",
    "    else:\n",
    "        raise ValueError('feedback type must be specified as `good` or `bad`')\n",
    "    \n",
    "    df = pd.read_csv(survey_filepath, usecols = ['ID',\n",
    "                                                   'What do you think the _ strengths are? (up to 5 attributes in English)',\n",
    "                                                   'What do you think the _ improvement areas are? (up to 5 attributes in English)'])\n",
    "\n",
    "    df.columns = ['ID', 'positive', 'negative']\n",
    "    df = df.dropna(subset=['positive', 'negative'])\n",
    "    df = df[columns]\n",
    "    # output will always have two columns\n",
    "    df.columns = ['ID', 'response']\n",
    "    df.set_index('ID', inplace = True)\n",
    "    \n",
    "    # preparing data -- ryan\n",
    "    # changing important words less than 3 char \n",
    "    df = df.replace('HR', \"Human Resources\")\n",
    "    \n",
    "    # replacing 3 char and less with NA\n",
    "    df['response'] = np.where((df.response.str.len() <=3), 'No Answer', df.response)\n",
    "    \n",
    "    return df"
   ]
  },
  {
   "cell_type": "code",
   "execution_count": 105,
   "metadata": {},
   "outputs": [],
   "source": [
    "def normalize_mapping(mapping):\n",
    "    \"\"\" function to create a new mapping whose synonyms have been normlized consistently with the surveys\"\"\"\n",
    "    lem_map = dict()\n",
    "    for topic, synonyms in mapping.items():\n",
    "        lem_map[topic] = []\n",
    "        for syn in synonyms:\n",
    "            lem_map[topic].append(normalize(syn))\n",
    "    return lem_map\n",
    "\n",
    "\n",
    "def find_topics_in_text(survey_comments: pd.Series, mapping: dict, feedback_type='Positive'):\n",
    "    \"\"\" Function that puts the pieces together \"\"\"\n",
    "    results = []\n",
    "    for topic, syn_list in mapping.items(): \n",
    "        for survey_id, comment in survey_comments.items():\n",
    "            for syn in syn_list:\n",
    "                pattern = re.compile(syn)\n",
    "                if pattern.search(comment):\n",
    "                    results.append({'ID':survey_id, 'Topic Name': topic, 'Feedback': feedback_type,'comment': comment, 'match_word': syn})\n",
    "                    break\n",
    "                    \n",
    "    return pd.DataFrame(results)\n",
    "        "
   ]
  },
  {
   "cell_type": "code",
   "execution_count": null,
   "metadata": {},
   "outputs": [],
   "source": []
  },
  {
   "cell_type": "markdown",
   "metadata": {},
   "source": [
    "Creating the topic dictionary from the survey csv file. "
   ]
  },
  {
   "cell_type": "code",
   "execution_count": 106,
   "metadata": {},
   "outputs": [],
   "source": [
    "# reading csv\n",
    "csv = pd.read_csv(r'topic_dictionary.csv')"
   ]
  },
  {
   "cell_type": "code",
   "execution_count": 107,
   "metadata": {},
   "outputs": [],
   "source": [
    "# converting csv to dictionary \n",
    "d = csv.to_dict()"
   ]
  },
  {
   "cell_type": "code",
   "execution_count": 109,
   "metadata": {},
   "outputs": [],
   "source": [
    "# creating map object\n",
    "mapper = defaultdict(list)\n",
    "\n",
    "for k, v in d.items():\n",
    "    for kk, vv in v.items():\n",
    "        if vv is not np.nan:\n",
    "            mapper[k].append(vv)\n",
    "mapping = dict(mapper)"
   ]
  },
  {
   "cell_type": "markdown",
   "metadata": {},
   "source": [
    "Now with the mapping object stored we can use it with the functions created above to convert our responses to topic tags. Notice that we have to adjust the feedback_type for both the first object called when we load the survey response and also when we use the find_topics_in_text function as well. These need to coincide to have an accurate dataframe. "
   ]
  },
  {
   "cell_type": "code",
   "execution_count": 124,
   "metadata": {},
   "outputs": [
    {
     "name": "stdout",
     "output_type": "stream",
     "text": [
      "(4034, 3)\n",
      "(3895, 3)\n"
     ]
    }
   ],
   "source": [
    "# Put it all together\n",
    "df = load_survey_response_text(r'RawData.csv', \n",
    "                               feedback_type='pos')\n",
    "df['response_normed'] = df['response'].apply(normalize) # new column of normalized text\n",
    "norm_map = normalize_mapping(mapping)\n",
    "output = find_topics_in_text(df['response_normed'], norm_map, feedback_type='Positive')"
   ]
  },
  {
   "cell_type": "markdown",
   "metadata": {},
   "source": [
    "The above script created an object called **output** that will contain both the dataframes with the number of responses found which contained a theme based off the topic dictionary. For the positive sentiment there were 4,034 responses with a theme mentioned and 3,895 responses with negative sentiment for a theme. "
   ]
  },
  {
   "cell_type": "markdown",
   "metadata": {},
   "source": [
    "Now you can call the below statement to output it as a CSV to analyze further or pull it into a Business Intelligence tool that is easier for less technical users. "
   ]
  },
  {
   "cell_type": "code",
   "execution_count": 128,
   "metadata": {},
   "outputs": [],
   "source": [
    "\n",
    "output.to_csv('output.csv')"
   ]
  },
  {
   "cell_type": "markdown",
   "metadata": {},
   "source": [
    "The below is an example of the dataframe produced from the above script. It creates this dataframe with the Topic Name, the sentiment, the response and the word which was found in the response that created the mapping of this Topic. For the first row we see that for response ID 6 they had a positive response to the theme of *Team*. "
   ]
  },
  {
   "cell_type": "code",
   "execution_count": 142,
   "metadata": {},
   "outputs": [
    {
     "data": {
      "text/html": [
       "<div>\n",
       "<style scoped>\n",
       "    .dataframe tbody tr th:only-of-type {\n",
       "        vertical-align: middle;\n",
       "    }\n",
       "\n",
       "    .dataframe tbody tr th {\n",
       "        vertical-align: top;\n",
       "    }\n",
       "\n",
       "    .dataframe thead th {\n",
       "        text-align: right;\n",
       "    }\n",
       "</style>\n",
       "<table border=\"1\" class=\"dataframe\">\n",
       "  <thead>\n",
       "    <tr style=\"text-align: right;\">\n",
       "      <th></th>\n",
       "      <th>ID</th>\n",
       "      <th>Topic Name</th>\n",
       "      <th>Feedback</th>\n",
       "      <th>comment</th>\n",
       "      <th>match_word</th>\n",
       "    </tr>\n",
       "  </thead>\n",
       "  <tbody>\n",
       "    <tr>\n",
       "      <th>0</th>\n",
       "      <td>6</td>\n",
       "      <td>Team</td>\n",
       "      <td>Positive</td>\n",
       "      <td>1 extremely committed and hard work team membe...</td>\n",
       "      <td>team</td>\n",
       "    </tr>\n",
       "    <tr>\n",
       "      <th>1</th>\n",
       "      <td>15</td>\n",
       "      <td>Team</td>\n",
       "      <td>Positive</td>\n",
       "      <td>bold inclusive teamwork empower visionary</td>\n",
       "      <td>team</td>\n",
       "    </tr>\n",
       "    <tr>\n",
       "      <th>2</th>\n",
       "      <td>20</td>\n",
       "      <td>Team</td>\n",
       "      <td>Positive</td>\n",
       "      <td>infotainment audio team collaboration across g...</td>\n",
       "      <td>team</td>\n",
       "    </tr>\n",
       "    <tr>\n",
       "      <th>3</th>\n",
       "      <td>23</td>\n",
       "      <td>Team</td>\n",
       "      <td>Positive</td>\n",
       "      <td>workplace culture collaboration team work stra...</td>\n",
       "      <td>team</td>\n",
       "    </tr>\n",
       "    <tr>\n",
       "      <th>4</th>\n",
       "      <td>39</td>\n",
       "      <td>Team</td>\n",
       "      <td>Positive</td>\n",
       "      <td>knowledge innovation teamwork</td>\n",
       "      <td>team</td>\n",
       "    </tr>\n",
       "    <tr>\n",
       "      <th>...</th>\n",
       "      <td>...</td>\n",
       "      <td>...</td>\n",
       "      <td>...</td>\n",
       "      <td>...</td>\n",
       "      <td>...</td>\n",
       "    </tr>\n",
       "    <tr>\n",
       "      <th>5959</th>\n",
       "      <td>3974</td>\n",
       "      <td>Outer Team</td>\n",
       "      <td>Positive</td>\n",
       "      <td>supportive team supportive management freedom ...</td>\n",
       "      <td>cross functional</td>\n",
       "    </tr>\n",
       "    <tr>\n",
       "      <th>5960</th>\n",
       "      <td>3991</td>\n",
       "      <td>Outer Team</td>\n",
       "      <td>Positive</td>\n",
       "      <td>have domain expert cross functional team</td>\n",
       "      <td>cross functional</td>\n",
       "    </tr>\n",
       "    <tr>\n",
       "      <th>5961</th>\n",
       "      <td>4029</td>\n",
       "      <td>Outer Team</td>\n",
       "      <td>Positive</td>\n",
       "      <td>crossfunctional teamwork</td>\n",
       "      <td>crossfunctional</td>\n",
       "    </tr>\n",
       "    <tr>\n",
       "      <th>5962</th>\n",
       "      <td>4033</td>\n",
       "      <td>Outer Team</td>\n",
       "      <td>Positive</td>\n",
       "      <td>great team work    great assistance to support...</td>\n",
       "      <td>cross functional</td>\n",
       "    </tr>\n",
       "    <tr>\n",
       "      <th>5963</th>\n",
       "      <td>3968</td>\n",
       "      <td>Inner Team</td>\n",
       "      <td>Positive</td>\n",
       "      <td>smart cockpit，vehiclemounted system interconne...</td>\n",
       "      <td>interconnect</td>\n",
       "    </tr>\n",
       "  </tbody>\n",
       "</table>\n",
       "<p>5964 rows × 5 columns</p>\n",
       "</div>"
      ],
      "text/plain": [
       "        ID  Topic Name  Feedback  \\\n",
       "0        6        Team  Positive   \n",
       "1       15        Team  Positive   \n",
       "2       20        Team  Positive   \n",
       "3       23        Team  Positive   \n",
       "4       39        Team  Positive   \n",
       "...    ...         ...       ...   \n",
       "5959  3974  Outer Team  Positive   \n",
       "5960  3991  Outer Team  Positive   \n",
       "5961  4029  Outer Team  Positive   \n",
       "5962  4033  Outer Team  Positive   \n",
       "5963  3968  Inner Team  Positive   \n",
       "\n",
       "                                                comment        match_word  \n",
       "0     1 extremely committed and hard work team membe...              team  \n",
       "1             bold inclusive teamwork empower visionary              team  \n",
       "2     infotainment audio team collaboration across g...              team  \n",
       "3     workplace culture collaboration team work stra...              team  \n",
       "4                         knowledge innovation teamwork              team  \n",
       "...                                                 ...               ...  \n",
       "5959  supportive team supportive management freedom ...  cross functional  \n",
       "5960           have domain expert cross functional team  cross functional  \n",
       "5961                           crossfunctional teamwork   crossfunctional  \n",
       "5962  great team work    great assistance to support...  cross functional  \n",
       "5963  smart cockpit，vehiclemounted system interconne...      interconnect  \n",
       "\n",
       "[5964 rows x 5 columns]"
      ]
     },
     "execution_count": 142,
     "metadata": {},
     "output_type": "execute_result"
    }
   ],
   "source": [
    "saved_positive_df"
   ]
  },
  {
   "cell_type": "code",
   "execution_count": 143,
   "metadata": {},
   "outputs": [
    {
     "data": {
      "text/html": [
       "<div>\n",
       "<style scoped>\n",
       "    .dataframe tbody tr th:only-of-type {\n",
       "        vertical-align: middle;\n",
       "    }\n",
       "\n",
       "    .dataframe tbody tr th {\n",
       "        vertical-align: top;\n",
       "    }\n",
       "\n",
       "    .dataframe thead th {\n",
       "        text-align: right;\n",
       "    }\n",
       "</style>\n",
       "<table border=\"1\" class=\"dataframe\">\n",
       "  <thead>\n",
       "    <tr style=\"text-align: right;\">\n",
       "      <th></th>\n",
       "      <th>ID</th>\n",
       "      <th>Topic Name</th>\n",
       "      <th>Feedback</th>\n",
       "      <th>comment</th>\n",
       "      <th>match_word</th>\n",
       "    </tr>\n",
       "  </thead>\n",
       "  <tbody>\n",
       "    <tr>\n",
       "      <th>0</th>\n",
       "      <td>10</td>\n",
       "      <td>Team</td>\n",
       "      <td>Negative</td>\n",
       "      <td>help team across sbus be really need recognize...</td>\n",
       "      <td>team</td>\n",
       "    </tr>\n",
       "    <tr>\n",
       "      <th>1</th>\n",
       "      <td>17</td>\n",
       "      <td>Team</td>\n",
       "      <td>Negative</td>\n",
       "      <td>1 lack of leadership   unclear direction   unc...</td>\n",
       "      <td>team</td>\n",
       "    </tr>\n",
       "    <tr>\n",
       "      <th>2</th>\n",
       "      <td>23</td>\n",
       "      <td>Team</td>\n",
       "      <td>Negative</td>\n",
       "      <td>need more team recognition more hardware procu...</td>\n",
       "      <td>team</td>\n",
       "    </tr>\n",
       "    <tr>\n",
       "      <th>3</th>\n",
       "      <td>31</td>\n",
       "      <td>Team</td>\n",
       "      <td>Negative</td>\n",
       "      <td>the project team be now too fractured everyone...</td>\n",
       "      <td>team</td>\n",
       "    </tr>\n",
       "    <tr>\n",
       "      <th>4</th>\n",
       "      <td>33</td>\n",
       "      <td>Team</td>\n",
       "      <td>Negative</td>\n",
       "      <td>coordination between test and dev team about h...</td>\n",
       "      <td>team</td>\n",
       "    </tr>\n",
       "    <tr>\n",
       "      <th>...</th>\n",
       "      <td>...</td>\n",
       "      <td>...</td>\n",
       "      <td>...</td>\n",
       "      <td>...</td>\n",
       "      <td>...</td>\n",
       "    </tr>\n",
       "    <tr>\n",
       "      <th>6193</th>\n",
       "      <td>3960</td>\n",
       "      <td>Outer Team</td>\n",
       "      <td>Negative</td>\n",
       "      <td>1 focus on multi discipline handson base train...</td>\n",
       "      <td>crossfunctional</td>\n",
       "    </tr>\n",
       "    <tr>\n",
       "      <th>6194</th>\n",
       "      <td>4033</td>\n",
       "      <td>Outer Team</td>\n",
       "      <td>Negative</td>\n",
       "      <td>I think there be need to plan more training be...</td>\n",
       "      <td>cross functional</td>\n",
       "    </tr>\n",
       "    <tr>\n",
       "      <th>6195</th>\n",
       "      <td>3017</td>\n",
       "      <td>Inner Team</td>\n",
       "      <td>Negative</td>\n",
       "      <td>efficiency use of modern application interteam...</td>\n",
       "      <td>interteamwork</td>\n",
       "    </tr>\n",
       "    <tr>\n",
       "      <th>6196</th>\n",
       "      <td>3236</td>\n",
       "      <td>Inner Team</td>\n",
       "      <td>Negative</td>\n",
       "      <td>process rasic knowledge sharing work duplicati...</td>\n",
       "      <td>intersbu</td>\n",
       "    </tr>\n",
       "    <tr>\n",
       "      <th>6197</th>\n",
       "      <td>3405</td>\n",
       "      <td>Inner Team</td>\n",
       "      <td>Negative</td>\n",
       "      <td>culture that be gear towards holicity transpar...</td>\n",
       "      <td>interconnect</td>\n",
       "    </tr>\n",
       "  </tbody>\n",
       "</table>\n",
       "<p>6198 rows × 5 columns</p>\n",
       "</div>"
      ],
      "text/plain": [
       "        ID  Topic Name  Feedback  \\\n",
       "0       10        Team  Negative   \n",
       "1       17        Team  Negative   \n",
       "2       23        Team  Negative   \n",
       "3       31        Team  Negative   \n",
       "4       33        Team  Negative   \n",
       "...    ...         ...       ...   \n",
       "6193  3960  Outer Team  Negative   \n",
       "6194  4033  Outer Team  Negative   \n",
       "6195  3017  Inner Team  Negative   \n",
       "6196  3236  Inner Team  Negative   \n",
       "6197  3405  Inner Team  Negative   \n",
       "\n",
       "                                                comment        match_word  \n",
       "0     help team across sbus be really need recognize...              team  \n",
       "1     1 lack of leadership   unclear direction   unc...              team  \n",
       "2     need more team recognition more hardware procu...              team  \n",
       "3     the project team be now too fractured everyone...              team  \n",
       "4     coordination between test and dev team about h...              team  \n",
       "...                                                 ...               ...  \n",
       "6193  1 focus on multi discipline handson base train...   crossfunctional  \n",
       "6194  I think there be need to plan more training be...  cross functional  \n",
       "6195  efficiency use of modern application interteam...     interteamwork  \n",
       "6196  process rasic knowledge sharing work duplicati...          intersbu  \n",
       "6197  culture that be gear towards holicity transpar...      interconnect  \n",
       "\n",
       "[6198 rows x 5 columns]"
      ]
     },
     "execution_count": 143,
     "metadata": {},
     "output_type": "execute_result"
    }
   ],
   "source": [
    "saved_negative_df"
   ]
  }
 ],
 "metadata": {
  "kernelspec": {
   "display_name": "Python (harman_survey)",
   "language": "python",
   "name": "harman_survey"
  },
  "language_info": {
   "codemirror_mode": {
    "name": "ipython",
    "version": 3
   },
   "file_extension": ".py",
   "mimetype": "text/x-python",
   "name": "python",
   "nbconvert_exporter": "python",
   "pygments_lexer": "ipython3",
   "version": "3.8.10"
  }
 },
 "nbformat": 4,
 "nbformat_minor": 4
}
